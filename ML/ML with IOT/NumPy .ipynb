{
 "cells": [
  {
   "cell_type": "code",
   "execution_count": 2,
   "id": "7997af6a",
   "metadata": {},
   "outputs": [
    {
     "name": "stdout",
     "output_type": "stream",
     "text": [
      "[1 2 3 4 5]\n",
      "<class 'numpy.ndarray'>\n"
     ]
    }
   ],
   "source": [
    "import numpy as np\n",
    "arr = np.array([1,2,3,4,5])\n",
    "print(arr)\n",
    "print(type(arr))"
   ]
  },
  {
   "cell_type": "code",
   "execution_count": 3,
   "id": "58b03cd1",
   "metadata": {},
   "outputs": [
    {
     "name": "stdout",
     "output_type": "stream",
     "text": [
      "45\n"
     ]
    }
   ],
   "source": [
    "import numpy as np\n",
    "arr=np.array(45)\n",
    "print(arr)"
   ]
  },
  {
   "cell_type": "code",
   "execution_count": 4,
   "id": "2000ddd4",
   "metadata": {},
   "outputs": [
    {
     "name": "stdout",
     "output_type": "stream",
     "text": [
      "[11 23 12 34 54]\n"
     ]
    }
   ],
   "source": [
    "import numpy as np\n",
    "arr=np.array([11,23,12,34,54])\n",
    "print(arr)"
   ]
  },
  {
   "cell_type": "code",
   "execution_count": 5,
   "id": "d747a261",
   "metadata": {},
   "outputs": [
    {
     "name": "stdout",
     "output_type": "stream",
     "text": [
      "[[11 22 33]\n",
      " [44 55 66]]\n"
     ]
    }
   ],
   "source": [
    "import numpy as np\n",
    "arr=np.array([[11,22,33],[44,55,66]])\n",
    "print(arr)"
   ]
  },
  {
   "cell_type": "code",
   "execution_count": 6,
   "id": "ef7dc062",
   "metadata": {},
   "outputs": [
    {
     "name": "stdout",
     "output_type": "stream",
     "text": [
      "[[11 22 33]\n",
      " [44 55 66]\n",
      " [77 88 99]]\n"
     ]
    }
   ],
   "source": [
    "import numpy as np\n",
    "arr=np.array([[11,22,33],[44,55,66],[77,88,99]])\n",
    "print(arr)"
   ]
  },
  {
   "cell_type": "code",
   "execution_count": 9,
   "id": "52fc4688",
   "metadata": {},
   "outputs": [
    {
     "name": "stdout",
     "output_type": "stream",
     "text": [
      "[[[1 2 3]\n",
      "  [4 5 6]]\n",
      "\n",
      " [[1 2 4]\n",
      "  [3 5 6]]]\n"
     ]
    }
   ],
   "source": [
    "import numpy as np\n",
    "arr=np.array([[[1,2,3],[4,5,6]],[[1,2,4],[3,5,6]]])\n",
    "print(arr)"
   ]
  },
  {
   "cell_type": "code",
   "execution_count": 10,
   "id": "8459b840",
   "metadata": {},
   "outputs": [
    {
     "name": "stdout",
     "output_type": "stream",
     "text": [
      "0\n",
      "1\n",
      "2\n",
      "3\n"
     ]
    }
   ],
   "source": [
    "import numpy as np\n",
    "a=np.array(45)\n",
    "b=np.array([11,23,12,34,54])\n",
    "c=np.array([[11,22,33],[44,55,66]])\n",
    "d=np.array([[[1,2,3],[4,5,6]],[[1,2,4],[3,5,6]]])\n",
    "print(a.ndim)\n",
    "print(b.ndim)\n",
    "print(c.ndim)\n",
    "print(d.ndim)\n"
   ]
  },
  {
   "cell_type": "code",
   "execution_count": 11,
   "id": "9a1c449c",
   "metadata": {},
   "outputs": [
    {
     "name": "stdout",
     "output_type": "stream",
     "text": [
      "[[6.95324987e-310 6.95324986e-310 0.00000000e+000 0.00000000e+000\n",
      "  1.41016814e-311]\n",
      " [4.94065646e-324 0.00000000e+000 0.00000000e+000 4.04738577e-320\n",
      "  0.00000000e+000]\n",
      " [1.23022346e-321 1.41020393e-311 1.78022342e-306 1.05700345e-307\n",
      "  0.00000000e+000]\n",
      " [1.41020393e-311 1.42410839e-306 7.56597770e-307 6.23059726e-307\n",
      "  5.43472210e-322]\n",
      " [7.56599128e-307 1.78022206e-306 8.34451503e-308             nan\n",
      "  2.56761491e-312]]\n"
     ]
    }
   ],
   "source": [
    "import numpy as np\n",
    "arr=np.empty((5,5))\n",
    "print(arr)"
   ]
  },
  {
   "cell_type": "code",
   "execution_count": 12,
   "id": "dbcb6bc6",
   "metadata": {},
   "outputs": [
    {
     "name": "stdout",
     "output_type": "stream",
     "text": [
      "[[4.24399158e-314 8.48798317e-314]\n",
      " [1.27319747e-313 4.24399158e-314]\n",
      " [6.36598737e-314 1.27319747e-313]]\n"
     ]
    }
   ],
   "source": [
    "import numpy as np\n",
    "arr=np.empty((3,2))\n",
    "print(arr)"
   ]
  },
  {
   "cell_type": "code",
   "execution_count": 13,
   "id": "32d84afa",
   "metadata": {},
   "outputs": [
    {
     "name": "stdout",
     "output_type": "stream",
     "text": [
      "[[0. 0. 0. 0. 0.]\n",
      " [0. 0. 0. 0. 0.]\n",
      " [0. 0. 0. 0. 0.]\n",
      " [0. 0. 0. 0. 0.]\n",
      " [0. 0. 0. 0. 0.]]\n"
     ]
    }
   ],
   "source": [
    "import numpy as np\n",
    "arr=np.zeros((5,5))\n",
    "print(arr)"
   ]
  },
  {
   "cell_type": "code",
   "execution_count": 14,
   "id": "f85fa852",
   "metadata": {},
   "outputs": [
    {
     "name": "stdout",
     "output_type": "stream",
     "text": [
      "[[1. 1. 1. 1. 1.]\n",
      " [1. 1. 1. 1. 1.]\n",
      " [1. 1. 1. 1. 1.]\n",
      " [1. 1. 1. 1. 1.]]\n"
     ]
    }
   ],
   "source": [
    "import numpy as np\n",
    "arr=np.ones((4,5))\n",
    "print(arr)"
   ]
  },
  {
   "cell_type": "code",
   "execution_count": 15,
   "id": "a7d2cf35",
   "metadata": {},
   "outputs": [
    {
     "name": "stdout",
     "output_type": "stream",
     "text": [
      "[ 4  7 10  6]\n"
     ]
    }
   ],
   "source": [
    "import numpy as np\n",
    "var1=np.array([1,2,3,4])\n",
    "var2=np.array([3,5,7,2])\n",
    "res=np.add(var1,var2)\n",
    "print(res)"
   ]
  },
  {
   "cell_type": "code",
   "execution_count": 16,
   "id": "7c7aa99f",
   "metadata": {},
   "outputs": [
    {
     "name": "stdout",
     "output_type": "stream",
     "text": [
      "[[ 9  9  3  8]\n",
      " [14 14  4  6]]\n"
     ]
    }
   ],
   "source": [
    "import numpy as np\n",
    "var1=np.array([[1,4,2,6],[8,5,4,2]])\n",
    "var2=np.array([[8,5,1,2],[6,9,0,4]])\n",
    "res=np.add(var1,var2)\n",
    "print(res)"
   ]
  },
  {
   "cell_type": "code",
   "execution_count": 17,
   "id": "01496679",
   "metadata": {},
   "outputs": [
    {
     "name": "stdout",
     "output_type": "stream",
     "text": [
      "[-2 -3 -4  2]\n"
     ]
    }
   ],
   "source": [
    "import numpy as np\n",
    "var1=np.array([1,2,3,4])\n",
    "var2=np.array([3,5,7,2])\n",
    "res=np.subtract (var1,var2)\n",
    "print(res)"
   ]
  },
  {
   "cell_type": "code",
   "execution_count": 18,
   "id": "24908356",
   "metadata": {},
   "outputs": [
    {
     "name": "stdout",
     "output_type": "stream",
     "text": [
      "[[-7 -1  1  4]\n",
      " [ 2 -4  4 -2]]\n"
     ]
    }
   ],
   "source": [
    "import numpy as np\n",
    "var1=np.array([[1,4,2,6],[8,5,4,2]])\n",
    "var2=np.array([[8,5,1,2],[6,9,0,4]])\n",
    "res=np.subtract(var1,var2)\n",
    "print(res)"
   ]
  },
  {
   "cell_type": "code",
   "execution_count": 19,
   "id": "0624155f",
   "metadata": {},
   "outputs": [
    {
     "name": "stdout",
     "output_type": "stream",
     "text": [
      "[ 3 10 21  8]\n"
     ]
    }
   ],
   "source": [
    "import numpy as np\n",
    "var1=np.array([1,2,3,4])\n",
    "var2=np.array([3,5,7,2])\n",
    "res=np.multiply(var1,var2)\n",
    "print(res)"
   ]
  },
  {
   "cell_type": "code",
   "execution_count": 20,
   "id": "6b655056",
   "metadata": {},
   "outputs": [
    {
     "name": "stdout",
     "output_type": "stream",
     "text": [
      "[[ 8 20  2 12]\n",
      " [48 45  0  8]]\n"
     ]
    }
   ],
   "source": [
    "import numpy as np\n",
    "var1=np.array([[1,4,2,6],[8,5,4,2]])\n",
    "var2=np.array([[8,5,1,2],[6,9,0,4]])\n",
    "res=np.multiply(var1,var2)\n",
    "print(res)"
   ]
  },
  {
   "cell_type": "code",
   "execution_count": 22,
   "id": "11f0a0ca",
   "metadata": {},
   "outputs": [
    {
     "name": "stdout",
     "output_type": "stream",
     "text": [
      "[2. 3. 1. 2.]\n"
     ]
    }
   ],
   "source": [
    "import numpy as np\n",
    "var1=np.array([4,12,3,4])\n",
    "var2=np.array([2,4,3,2])\n",
    "res=np.divide(var1,var2)\n",
    "print(res)"
   ]
  },
  {
   "cell_type": "code",
   "execution_count": 24,
   "id": "8af45a42",
   "metadata": {},
   "outputs": [
    {
     "name": "stdout",
     "output_type": "stream",
     "text": [
      "[0 0 1 0]\n"
     ]
    }
   ],
   "source": [
    "import numpy as np\n",
    "var1=np.array([4,10,8,4])\n",
    "var2=np.array([1,5,7,2])\n",
    "res=np.mod(var1,var2)\n",
    "print(res)"
   ]
  },
  {
   "cell_type": "code",
   "execution_count": 26,
   "id": "d6851d26",
   "metadata": {},
   "outputs": [
    {
     "name": "stdout",
     "output_type": "stream",
     "text": [
      "[  32   64 2187   16]\n"
     ]
    }
   ],
   "source": [
    "import numpy as np\n",
    "var1=np.array([2,2,3,4])\n",
    "var2=np.array([5,6,7,2])\n",
    "res=np.power(var1,var2)\n",
    "print(res)"
   ]
  },
  {
   "cell_type": "code",
   "execution_count": 29,
   "id": "e292244e",
   "metadata": {},
   "outputs": [
    {
     "name": "stdout",
     "output_type": "stream",
     "text": [
      "[1 0 0 0]\n"
     ]
    }
   ],
   "source": [
    "import numpy as np\n",
    "var1=np.array([1,2,3,4])\n",
    "res=np.reciprocal(var1)\n",
    "print(res)"
   ]
  },
  {
   "cell_type": "code",
   "execution_count": 30,
   "id": "11fbdc23",
   "metadata": {},
   "outputs": [
    {
     "name": "stdout",
     "output_type": "stream",
     "text": [
      "1\n"
     ]
    }
   ],
   "source": [
    "import numpy as np\n",
    "var=np.array([1,2,3,4])\n",
    "res=np.min(var)\n",
    "print(res)"
   ]
  },
  {
   "cell_type": "code",
   "execution_count": 31,
   "id": "c1d09745",
   "metadata": {},
   "outputs": [
    {
     "name": "stdout",
     "output_type": "stream",
     "text": [
      "8\n"
     ]
    }
   ],
   "source": [
    "import numpy as np\n",
    "var1=np.array([[1,2,3,4],[3,6,8,5]])\n",
    "res=np.max(var1)\n",
    "print(res)"
   ]
  },
  {
   "cell_type": "code",
   "execution_count": 32,
   "id": "df8e0439",
   "metadata": {},
   "outputs": [
    {
     "name": "stdout",
     "output_type": "stream",
     "text": [
      "2 2\n"
     ]
    }
   ],
   "source": [
    "import numpy as np\n",
    "var=np.array([[12,4,2,5],[3,6,8,9]])\n",
    "print(np.min(var),np.argmin(var))"
   ]
  },
  {
   "cell_type": "code",
   "execution_count": 33,
   "id": "d7bfc05f",
   "metadata": {},
   "outputs": [
    {
     "name": "stdout",
     "output_type": "stream",
     "text": [
      "12 0\n"
     ]
    }
   ],
   "source": [
    "import numpy as np\n",
    "var=np.array([[12,4,2,5],[3,6,8,9]])\n",
    "print(np.max(var),np.argmax(var))"
   ]
  },
  {
   "cell_type": "code",
   "execution_count": 34,
   "id": "a9b3485a",
   "metadata": {},
   "outputs": [
    {
     "name": "stdout",
     "output_type": "stream",
     "text": [
      "[[9. 3. 6.]\n",
      " [4. 5. 2.]]\n"
     ]
    }
   ],
   "source": [
    "import numpy as np\n",
    "var=np.array([[81,9,36],[16,25,4]])\n",
    "print(np.sqrt(var))"
   ]
  },
  {
   "cell_type": "code",
   "execution_count": 35,
   "id": "43d9f0b7",
   "metadata": {},
   "outputs": [
    {
     "name": "stdout",
     "output_type": "stream",
     "text": [
      "[[-0.62988799  0.41211849 -0.99177885]\n",
      " [-0.28790332 -0.13235175 -0.7568025 ]]\n"
     ]
    }
   ],
   "source": [
    "import numpy as np\n",
    "var=np.array([[81,9,36],[16,25,4]])\n",
    "print(np.sin(var))"
   ]
  },
  {
   "cell_type": "code",
   "execution_count": 36,
   "id": "7f3fb4a6",
   "metadata": {},
   "outputs": [
    {
     "name": "stdout",
     "output_type": "stream",
     "text": [
      "[[ 0.77668598 -0.91113026 -0.12796369]\n",
      " [-0.95765948  0.99120281 -0.65364362]]\n"
     ]
    }
   ],
   "source": [
    "import numpy as np\n",
    "var=np.array([[81,9,36],[16,25,4]])\n",
    "print(np.cos(var))"
   ]
  },
  {
   "cell_type": "code",
   "execution_count": 37,
   "id": "2824bf0f",
   "metadata": {},
   "outputs": [
    {
     "name": "stdout",
     "output_type": "stream",
     "text": [
      "[[-0.81099442 -0.45231566  7.75047091]\n",
      " [ 0.30063224 -0.13352641  1.15782128]]\n"
     ]
    }
   ],
   "source": [
    "import numpy as np\n",
    "var=np.array([[81,9,36],[16,25,4]])\n",
    "print(np.tan(var))"
   ]
  },
  {
   "cell_type": "code",
   "execution_count": 40,
   "id": "26a623f7",
   "metadata": {},
   "outputs": [
    {
     "name": "stdout",
     "output_type": "stream",
     "text": [
      "[ 81  90 126 142 167 171]\n"
     ]
    }
   ],
   "source": [
    "import numpy as np\n",
    "var=np.array([[81,9,36],[16,25,4]])\n",
    "print(np.cumsum(var))"
   ]
  },
  {
   "cell_type": "code",
   "execution_count": 41,
   "id": "1c550baf",
   "metadata": {},
   "outputs": [
    {
     "name": "stdout",
     "output_type": "stream",
     "text": [
      "3 5\n"
     ]
    }
   ],
   "source": [
    "import numpy as np\n",
    "arr = np.array([2,3,4,5])\n",
    "print(arr[1],arr[3])"
   ]
  },
  {
   "cell_type": "code",
   "execution_count": 42,
   "id": "80a58ee4",
   "metadata": {},
   "outputs": [
    {
     "name": "stdout",
     "output_type": "stream",
     "text": [
      "2nd element on 1st row: 3\n"
     ]
    }
   ],
   "source": [
    "import numpy as np\n",
    "arr = np.array([[2,3,4,5],[9,8,7,6]])\n",
    "print('2nd element on 1st row:',arr[0,1])"
   ]
  },
  {
   "cell_type": "code",
   "execution_count": 44,
   "id": "744e4ebc",
   "metadata": {},
   "outputs": [
    {
     "name": "stdout",
     "output_type": "stream",
     "text": [
      "5\n"
     ]
    }
   ],
   "source": [
    "import numpy as np\n",
    "arr = np.array([[2,3,4,5],[9,8,7,6]])\n",
    "print(arr[0,-1])"
   ]
  },
  {
   "cell_type": "code",
   "execution_count": 45,
   "id": "e15ba2d2",
   "metadata": {},
   "outputs": [
    {
     "name": "stdout",
     "output_type": "stream",
     "text": [
      "7\n"
     ]
    }
   ],
   "source": [
    "import numpy as np\n",
    "arr = np.array([9,8,7,6])\n",
    "print(arr[-2])"
   ]
  },
  {
   "cell_type": "code",
   "execution_count": 46,
   "id": "f1604b25",
   "metadata": {},
   "outputs": [
    {
     "name": "stdout",
     "output_type": "stream",
     "text": [
      "[8 7 6 5]\n"
     ]
    }
   ],
   "source": [
    "import numpy as np\n",
    "arr = np.array([9,8,7,6,5,4,3])\n",
    "print(arr[1:5])"
   ]
  },
  {
   "cell_type": "code",
   "execution_count": 47,
   "id": "115394dc",
   "metadata": {},
   "outputs": [
    {
     "name": "stdout",
     "output_type": "stream",
     "text": [
      "[6 5 4]\n"
     ]
    }
   ],
   "source": [
    "import numpy as np\n",
    "arr = np.array([9,8,7,6,5,4,3])\n",
    "print(arr[-4:-1])"
   ]
  },
  {
   "cell_type": "code",
   "execution_count": 48,
   "id": "1cad39e8",
   "metadata": {},
   "outputs": [
    {
     "name": "stdout",
     "output_type": "stream",
     "text": [
      "[8 6]\n"
     ]
    }
   ],
   "source": [
    "import numpy as np\n",
    "arr = np.array([9,8,7,6,5,4,3])\n",
    "print(arr[1:5:2])"
   ]
  },
  {
   "cell_type": "code",
   "execution_count": 3,
   "id": "d937cdf3",
   "metadata": {},
   "outputs": [
    {
     "name": "stdout",
     "output_type": "stream",
     "text": [
      "[7 4]\n"
     ]
    }
   ],
   "source": [
    "import numpy as np\n",
    "arr = np.array([[9,8,7,6],[2,5,4,3]])\n",
    "print(arr[0:2,2])"
   ]
  },
  {
   "cell_type": "code",
   "execution_count": 4,
   "id": "abe8ee0b",
   "metadata": {},
   "outputs": [
    {
     "name": "stdout",
     "output_type": "stream",
     "text": [
      "[[8 7]\n",
      " [5 4]]\n"
     ]
    }
   ],
   "source": [
    "import numpy as np\n",
    "arr = np.array([[9,8,7,6],[2,5,4,3]])\n",
    "print(arr[0:2,1:3])"
   ]
  },
  {
   "cell_type": "code",
   "execution_count": 6,
   "id": "e11e9073",
   "metadata": {},
   "outputs": [
    {
     "name": "stdout",
     "output_type": "stream",
     "text": [
      "[88 33 44 55 66]\n",
      "[22 33 44 55 66]\n"
     ]
    }
   ],
   "source": [
    "import numpy as np\n",
    "arr=np.array([22,33,44,55,66])\n",
    "x=arr.copy()\n",
    "arr[0] = 88\n",
    "print(arr)\n",
    "print(x)"
   ]
  },
  {
   "cell_type": "code",
   "execution_count": 7,
   "id": "0563dfb2",
   "metadata": {},
   "outputs": [
    {
     "name": "stdout",
     "output_type": "stream",
     "text": [
      "[88 33 44 55 66]\n",
      "[88 33 44 55 66]\n"
     ]
    }
   ],
   "source": [
    "import numpy as np\n",
    "arr=np.array([22,33,44,55,66])\n",
    "x=arr.view()\n",
    "arr[0] = 88\n",
    "print(arr)\n",
    "print(x)"
   ]
  },
  {
   "cell_type": "code",
   "execution_count": 9,
   "id": "3136e3b2",
   "metadata": {},
   "outputs": [
    {
     "name": "stdout",
     "output_type": "stream",
     "text": [
      "(2, 5)\n"
     ]
    }
   ],
   "source": [
    "import numpy as np\n",
    "arr = np.array([[1,2,3,4,5],[9,8,7,6,90]])\n",
    "print(arr.shape)"
   ]
  },
  {
   "cell_type": "code",
   "execution_count": 10,
   "id": "066cc161",
   "metadata": {},
   "outputs": [
    {
     "name": "stdout",
     "output_type": "stream",
     "text": [
      "[[[[[22 33 44 55 66]]]]]\n",
      "Shape of Array :  (1, 1, 1, 1, 5)\n"
     ]
    }
   ],
   "source": [
    "import numpy as np\n",
    "arr=np.array([22,33,44,55,66],ndmin=5)\n",
    "print(arr)\n",
    "print('Shape of Array : ',arr.shape)"
   ]
  },
  {
   "cell_type": "code",
   "execution_count": 13,
   "id": "be81dd63",
   "metadata": {},
   "outputs": [
    {
     "name": "stdout",
     "output_type": "stream",
     "text": [
      "[[9 8]\n",
      " [7 6]\n",
      " [5 4]\n",
      " [3 2]]\n"
     ]
    }
   ],
   "source": [
    "import numpy as np\n",
    "arr = np.array([9,8,7,6,5,4,3,2])\n",
    "newarr = arr.reshape(4,2)\n",
    "print(newarr)"
   ]
  },
  {
   "cell_type": "code",
   "execution_count": null,
   "id": "539b4692",
   "metadata": {},
   "outputs": [],
   "source": []
  }
 ],
 "metadata": {
  "kernelspec": {
   "display_name": "Python 3 (ipykernel)",
   "language": "python",
   "name": "python3"
  },
  "language_info": {
   "codemirror_mode": {
    "name": "ipython",
    "version": 3
   },
   "file_extension": ".py",
   "mimetype": "text/x-python",
   "name": "python",
   "nbconvert_exporter": "python",
   "pygments_lexer": "ipython3",
   "version": "3.7.6"
  }
 },
 "nbformat": 4,
 "nbformat_minor": 5
}
